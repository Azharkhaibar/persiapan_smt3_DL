{
 "cells": [
  {
   "cell_type": "code",
   "execution_count": null,
   "metadata": {},
   "outputs": [],
   "source": [
    "import pandas as pd\n",
    "import random\n"
   ]
  },
  {
   "cell_type": "code",
   "execution_count": 15,
   "metadata": {},
   "outputs": [
    {
     "name": "stdout",
     "output_type": "stream",
     "text": [
      "        NAME  AGE        LIVE      HOBBY\n",
      "0      azhar   12     jakarta   berenang\n",
      "1    ryandra   43      bekasi      makan\n",
      "2   abdillah   54   cileungsi    rebahan\n",
      "3      gofur   32      bekasi    ngising\n",
      "4      Frank   24    semarang      boker\n",
      "5       John   44    semarang  baca buku\n",
      "6    Charlie   36      bekasi      boker\n",
      "7       Jane   34      bekasi  baca buku\n",
      "8       John   38   tangerang   meditasi\n",
      "9      Frank   27    semarang      boker\n",
      "10      John   43     cianjur      boker\n",
      "11      Jane   43  yogyakarta      boker\n",
      "12     Diana   32       bogor      boker\n",
      "13       Eve   42       depok   meditasi\n",
      "14       Bob   43   tangerang   meditasi\n",
      "15     Frank   46     jakarta      boker\n",
      "16     Diana   23     bandung  baca buku\n",
      "17     Frank   44     jakarta   meditasi\n",
      "18     Grace   21  yogyakarta   meditasi\n",
      "19     Diana   34    semarang   meditasi\n",
      "20      Jane   32   tangerang   meditasi\n",
      "21     Diana   38    semarang   meditasi\n",
      "22      John   19     bandung   meditasi\n",
      "23       Bob   42     bandung      boker\n",
      "24      John   37      bekasi  baca buku\n",
      "25      John   22     bandung   meditasi\n",
      "26      Hank   38     cianjur   meditasi\n",
      "27     Diana   22     jakarta  baca buku\n",
      "28     Frank   23     bandung      boker\n",
      "29      Jane   23  yogyakarta  baca buku\n",
      "30       Bob   39     bandung      boker\n",
      "31      Hank   45   tangerang      boker\n",
      "32      Hank   21     jakarta      boker\n",
      "33     Diana   47    semarang      boker\n",
      "34      Jane   31     bandung  baca buku\n",
      "35     Alice   41      bekasi      boker\n",
      "36     Frank   39     jakarta  baca buku\n",
      "37     Grace   34  yogyakarta      boker\n",
      "38     Alice   42   tangerang      boker\n",
      "39     Grace   28       bogor  baca buku\n",
      "40      Jane   25    semarang  baca buku\n",
      "41       Eve   22      bekasi      boker\n",
      "42     Frank   33     cianjur  baca buku\n",
      "43       Eve   49     cianjur   meditasi\n",
      "44      Hank   20    surabaya   meditasi\n",
      "45       Eve   27   tangerang  baca buku\n",
      "46       Bob   24     bandung      boker\n",
      "47     Alice   41    surabaya   meditasi\n",
      "48       Eve   18    surabaya      boker\n",
      "49     Diana   19  yogyakarta      boker\n",
      "50   Charlie   45   tangerang      boker\n",
      "51      Jane   47      bekasi      boker\n",
      "52       Eve   27    surabaya   meditasi\n",
      "53      Jane   33     jakarta      boker\n"
     ]
    }
   ],
   "source": [
    "import pandas as pd\n",
    "import random\n",
    "data_baru = {\n",
    "    \"name\": [\"azhar\", \"ryandra\", \"abdillah\", \"gofur\"],\n",
    "    \"age\": [12, 43, 54, 32],\n",
    "    \"live\": [\"jakarta\", \"bekasi\", \"cileungsi\", \"bekasi\"],\n",
    "    \"hobby\": [\"berenang\", \"makan\", \"rebahan\", \"ngising\"]\n",
    "}\n",
    "\n",
    "append_new_name =  [\"John\", \"Jane\", \"Alice\", \"Bob\", \"Charlie\", \"Diana\", \"Eve\", \"Frank\", \"Grace\", \"Hank\"]\n",
    "append_new_age = list(range(18, 50))\n",
    "append_new_live = [\"jakarta\", \"bandung\", \"surabaya\", \"bekasi\", \"tangerang\", \"depok\", \"bogor\", \"cianjur\", \"yogyakarta\", \"semarang\"]\n",
    "append_new_hobby = [\"boker\", \"baca buku\", \"meditasi\"]\n",
    "\n",
    "for _ in range(50):\n",
    "    data_baru[\"name\"].append(random.choice(append_new_name))\n",
    "    data_baru[\"age\"].append(random.choice(append_new_age))\n",
    "    data_baru[\"live\"].append(random.choice(append_new_live))\n",
    "    data_baru[\"hobby\"].append(random.choice(append_new_hobby))\n",
    "\n",
    "dt_new = pd.DataFrame(data_baru)\n",
    "dt_new.columns = [\"NAME\", \"AGE\", \"LIVE\", \"HOBBY\"]\n",
    "print(dt_new)\n",
    "\n"
   ]
  }
 ],
 "metadata": {
  "kernelspec": {
   "display_name": "Python 3",
   "language": "python",
   "name": "python3"
  },
  "language_info": {
   "codemirror_mode": {
    "name": "ipython",
    "version": 3
   },
   "file_extension": ".py",
   "mimetype": "text/x-python",
   "name": "python",
   "nbconvert_exporter": "python",
   "pygments_lexer": "ipython3",
   "version": "3.12.2"
  }
 },
 "nbformat": 4,
 "nbformat_minor": 2
}

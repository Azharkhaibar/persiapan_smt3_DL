{
 "cells": [
  {
   "cell_type": "code",
   "execution_count": 5,
   "metadata": {},
   "outputs": [
    {
     "name": "stdout",
     "output_type": "stream",
     "text": [
      "{'nama': ['azhar', 'sophie', 'monalisa', 'Eve', 'Jane', 'Hank', 'Diana', 'Bob', 'Jane', 'Diana', 'Grace', 'Grace', 'John', 'Alice', 'Hank', 'Diana', 'Eve', 'John', 'Hank', 'Grace', 'Hank', 'Hank', 'Jane', 'Frank', 'Eve', 'Diana', 'Alice', 'Eve', 'Jane', 'John', 'Diana', 'Alice', 'Diana', 'Eve', 'Frank', 'Charlie', 'Alice', 'Jane', 'Grace', 'Frank', 'Bob', 'Hank', 'Eve', 'Frank', 'Hank', 'Diana', 'Grace', 'John', 'John', 'Jane', 'Hank', 'Grace', 'Jane'], 'umur': [23, 21, 43, 54, 39, 25, 44, 35, 24, 41, 61, 20, 27, 28, 57, 43, 20, 48, 33, 57, 41, 60, 56, 45, 56, 35, 62, 42, 44, 27, 34, 63, 22, 48, 45, 52, 30, 64, 63, 63, 33, 53, 61, 58, 42, 37, 33, 40, 33, 64, 60, 37, 20], 'domisili': ['jakarta', 'bekasi', 'cianjur', 'cianjur', 'semarang', 'bekasi', 'bekasi', 'surabaya', 'bogor', 'jakarta', 'surabaya', 'yogyakarta', 'semarang', 'surabaya', 'depok', 'bekasi', 'cianjur', 'surabaya', 'jakarta', 'bogor', 'cianjur', 'tangerang', 'bekasi', 'tangerang', 'depok', 'bogor', 'bekasi', 'depok', 'cianjur', 'depok', 'bekasi', 'surabaya', 'semarang', 'semarang', 'depok', 'yogyakarta', 'bandung', 'bogor', 'yogyakarta', 'bekasi', 'tangerang', 'tangerang', 'cianjur', 'bogor', 'semarang', 'jakarta', 'bogor', 'jakarta', 'yogyakarta', 'tangerang', 'surabaya', 'tangerang', 'yogyakarta']}\n",
      "<class 'pandas.core.frame.DataFrame'>\n",
      "RangeIndex: 53 entries, 0 to 52\n",
      "Data columns (total 3 columns):\n",
      " #   Column    Non-Null Count  Dtype \n",
      "---  ------    --------------  ----- \n",
      " 0   nama      53 non-null     object\n",
      " 1   umur      53 non-null     int64 \n",
      " 2   domisili  53 non-null     object\n",
      "dtypes: int64(1), object(2)\n",
      "memory usage: 1.4+ KB\n",
      "None\n",
      "{'nama': ['azhar', 'sophie', 'monalisa', 'Eve', 'Jane', 'Hank', 'Diana', 'Bob', 'Jane', 'Diana', 'Grace', 'Grace', 'John', 'Alice', 'Hank', 'Diana', 'Eve', 'John', 'Hank', 'Grace', 'Hank', 'Hank', 'Jane', 'Frank', 'Eve', 'Diana', 'Alice', 'Eve', 'Jane', 'John', 'Diana', 'Alice', 'Diana', 'Eve', 'Frank', 'Charlie', 'Alice', 'Jane', 'Grace', 'Frank', 'Bob', 'Hank', 'Eve', 'Frank', 'Hank', 'Diana', 'Grace', 'John', 'John', 'Jane', 'Hank', 'Grace', 'Jane'], 'umur': [23, 21, 43, 54, 39, 25, 44, 35, 24, 41, 61, 20, 27, 28, 57, 43, 20, 48, 33, 57, 41, 60, 56, 45, 56, 35, 62, 42, 44, 27, 34, 63, 22, 48, 45, 52, 30, 64, 63, 63, 33, 53, 61, 58, 42, 37, 33, 40, 33, 64, 60, 37, 20], 'domisili': ['jakarta', 'bekasi', 'cianjur', 'cianjur', 'semarang', 'bekasi', 'bekasi', 'surabaya', 'bogor', 'jakarta', 'surabaya', 'yogyakarta', 'semarang', 'surabaya', 'depok', 'bekasi', 'cianjur', 'surabaya', 'jakarta', 'bogor', 'cianjur', 'tangerang', 'bekasi', 'tangerang', 'depok', 'bogor', 'bekasi', 'depok', 'cianjur', 'depok', 'bekasi', 'surabaya', 'semarang', 'semarang', 'depok', 'yogyakarta', 'bandung', 'bogor', 'yogyakarta', 'bekasi', 'tangerang', 'tangerang', 'cianjur', 'bogor', 'semarang', 'jakarta', 'bogor', 'jakarta', 'yogyakarta', 'tangerang', 'surabaya', 'tangerang', 'yogyakarta']}\n"
     ]
    }
   ],
   "source": [
    "import pandas as pd\n",
    "import random\n",
    "\n",
    "data_person = {\n",
    "    \"nama\": [\"azhar\", \"sophie\", \"monalisa\"],\n",
    "    \"umur\": [23, 21, 43],\n",
    "    \"domisili\": [\"jakarta\", \"bekasi\", \"cianjur\"]\n",
    "}\n",
    "\n",
    "nama_baru = [\"John\", \"Jane\", \"Alice\", \"Bob\", \"Charlie\", \"Diana\", \"Eve\", \"Frank\", \"Grace\", \"Hank\"]\n",
    "umur_baru = list(range(18, 65)) \n",
    "domisili_baru = [\"jakarta\", \"bandung\", \"surabaya\", \"bekasi\", \"tangerang\", \"depok\", \"bogor\", \"cianjur\", \"yogyakarta\", \"semarang\"]\n",
    "\n",
    "for _ in range(50):\n",
    "    data_person[\"nama\"].append(random.choice(nama_baru))\n",
    "    data_person[\"umur\"].append(random.choice(umur_baru))\n",
    "    data_person[\"domisili\"].append(random.choice(domisili_baru))\n",
    "\n",
    "df = pd.DataFrame(data_person)\n",
    "print(data_person)\n",
    "print(df.info())\n",
    "\n",
    "print(data_person)"
   ]
  },
  {
   "cell_type": "code",
   "execution_count": 2,
   "metadata": {},
   "outputs": [
    {
     "name": "stdout",
     "output_type": "stream",
     "text": [
      "       name  umur   domisili\n",
      "0     azhar    12    jakarta\n",
      "1   ryandra    43     bekasi\n",
      "2  abdillah    54  cileungsi\n",
      "3     gofur    32     bekasi\n"
     ]
    }
   ],
   "source": [
    "import pandas as pd\n",
    "data_baru = {\n",
    "    \"name\": [\"azhar\", \"ryandra\", \"abdillah\", \"gofur\"],\n",
    "    \"umur\": [12, 43, 54, 32],\n",
    "    \"domisili\": [\"jakarta\", \"bekasi\", \"cileungsi\", \"bekasi\"]\n",
    "}\n",
    "\n",
    "new_data = pd.DataFrame(data_baru)\n",
    "print(new_data)"
   ]
  }
 ],
 "metadata": {
  "kernelspec": {
   "display_name": "Python 3",
   "language": "python",
   "name": "python3"
  },
  "language_info": {
   "codemirror_mode": {
    "name": "ipython",
    "version": 3
   },
   "file_extension": ".py",
   "mimetype": "text/x-python",
   "name": "python",
   "nbconvert_exporter": "python",
   "pygments_lexer": "ipython3",
   "version": "3.12.2"
  }
 },
 "nbformat": 4,
 "nbformat_minor": 2
}

{
 "cells": [
  {
   "cell_type": "code",
   "execution_count": null,
   "metadata": {},
   "outputs": [],
   "source": [
    "import requests\n",
    "import pandas as pd\n",
    "import matplotlib.pyplot as plt\n",
    "\n",
    "def extractAPI() -> pd.DataFrame:\n",
    "    API_URL = 'http://universities.hipolabs.com/search?country=Indonesia'\n",
    "    response = requests.get(API_URL)\n",
    "    if response.status_code == 200:\n",
    "        api = response.json()\n",
    "        data_api = pd.DataFrame(api)\n",
    "        return data_api\n",
    "    else:\n",
    "        print(\"Failed to retrieve data.\")\n",
    "        return pd.DataFrame()  # Return an empty DataFrame in case of error\n",
    "\n",
    "data_api = extractAPI()\n",
    "\n",
    "# Verify the actual column names\n",
    "print(\"Columns in DataFrame:\", data_api.columns)\n",
    "\n",
    "# Adjust these column names based on actual column names\n",
    "data_api = data_api[[\"name\", \"alpha_code\", \"province\", \"domains\", \"web_pages\"]]  # Example column names\n",
    "\n",
    "data_api[\"province\"] = data_api[\"province\"].fillna('unknown')\n",
    "data_api[\"domains\"] = data_api[\"domains\"].apply(lambda x: x[0] if len(x) > 0 else 'unknown')\n",
    "\n",
    "data_api[\"name_length\"] = data_api[\"name\"].apply(len)\n",
    "data_api[\"name_word_count\"] = data_api[\"name\"].apply(lambda x: len(x.split()))\n",
    "\n",
    "print(data_api.head())\n",
    "\n",
    "# Data visualization\n",
    "if 'web_pages' in data_api.columns:\n",
    "    # Convert 'web_pages' to string and measure length\n",
    "    data_api[\"web_pages\"] = data_api[\"web_pages\"].astype(str).apply(len)\n",
    "    \n",
    "    # Plotting\n",
    "    plt.figure(figsize=(12, 6))\n",
    "    data_api.plot(kind='scatter', x='name', y='web_pages', alpha=0.7, edgecolors='w')\n",
    "    plt.xlabel('University Name')\n",
    "    plt.ylabel('Number of Web Pages')\n",
    "    plt.title('Number of Web Pages by University')\n",
    "    plt.xticks(rotation=90)\n",
    "    plt.tight_layout()  # Adjust layout to prevent clipping of labels\n",
    "    plt.show()\n",
    "else:\n",
    "    print(\"Column 'web_pages' not found or not numeric. Adjust plot settings accordingly.\")\n"
   ]
  }
 ],
 "metadata": {
  "language_info": {
   "name": "python"
  }
 },
 "nbformat": 4,
 "nbformat_minor": 2
}

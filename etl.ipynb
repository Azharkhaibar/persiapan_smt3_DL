{
 "cells": [
  {
   "cell_type": "code",
   "execution_count": 1,
   "metadata": {},
   "outputs": [
    {
     "name": "stdout",
     "output_type": "stream",
     "text": [
      "                               web_pages state-province alpha_two_code  \\\n",
      "0       [http://www.akfarmitseda.ac.id/]           None             ID   \n",
      "190        [https://akfaryarsiptk.ac.id]           None             ID   \n",
      "6              [http://www.binus.ac.id/]           None             ID   \n",
      "13               [http://www.ipb.ac.id/]           None             ID   \n",
      "189                 [https://udb.ac.id/]           None             ID   \n",
      "..                                   ...            ...            ...   \n",
      "183        [http://www.widyatama.ac.id/]           None             ID   \n",
      "164           [http://www.unwiku.ac.id/]           None             ID   \n",
      "184  [http://www.wijayakusumasby.ac.id/]           None             ID   \n",
      "186    [http://www.wisnuwardhana.ac.id/]           None             ID   \n",
      "188            [http://www.yarsi.ac.id/]           None             ID   \n",
      "\n",
      "       country                                          name  \\\n",
      "0    Indonesia  Akademi Farmasi Mitra Sehat Mandiri Sidoarjo   \n",
      "190  Indonesia              Akademi Farmasi Yarsis Pekanbaru   \n",
      "6    Indonesia                              Binus University   \n",
      "13   Indonesia                 Bogor Agricultural University   \n",
      "189  Indonesia                        Duta Bangsa University   \n",
      "..         ...                                           ...   \n",
      "183  Indonesia                         Universitas Widyatama   \n",
      "164  Indonesia          Universitas Wijaya Kusuma Purwokerto   \n",
      "184  Indonesia            Universitas Wijaya Kusuma Surabaya   \n",
      "186  Indonesia                     Universitas Wisnuwardhana   \n",
      "188  Indonesia                             Universitas Yarsi   \n",
      "\n",
      "                     domains  \n",
      "0       [akfarmitseda.ac.id]  \n",
      "190    [akfaryarsiptk.ac.id]  \n",
      "6              [binus.ac.id]  \n",
      "13               [ipb.ac.id]  \n",
      "189              [udb.ac.id]  \n",
      "..                       ...  \n",
      "183        [widyatama.ac.id]  \n",
      "164           [unwiku.ac.id]  \n",
      "184  [wijayakusumasby.ac.id]  \n",
      "186    [wisnuwardhana.ac.id]  \n",
      "188            [yarsi.ac.id]  \n",
      "\n",
      "[191 rows x 6 columns]\n"
     ]
    }
   ],
   "source": [
    "import requests\n",
    "import pandas as pd\n",
    "\n",
    "def extract() -> pd.DataFrame: \n",
    "    API_URL = 'http://universities.hipolabs.com/search?country=Indonesia'\n",
    "    data = requests.get(API_URL).json()\n",
    "    df = pd.DataFrame(data)  # Mengubah data menjadi DataFrame\n",
    "    return df\n",
    "\n",
    "df = extract()  \n",
    "print(df.sort_values(by=\"name\"))  \n"
   ]
  }
 ],
 "metadata": {
  "kernelspec": {
   "display_name": "Python 3",
   "language": "python",
   "name": "python3"
  },
  "language_info": {
   "codemirror_mode": {
    "name": "ipython",
    "version": 3
   },
   "file_extension": ".py",
   "mimetype": "text/x-python",
   "name": "python",
   "nbconvert_exporter": "python",
   "pygments_lexer": "ipython3",
   "version": "3.12.2"
  }
 },
 "nbformat": 4,
 "nbformat_minor": 2
}
